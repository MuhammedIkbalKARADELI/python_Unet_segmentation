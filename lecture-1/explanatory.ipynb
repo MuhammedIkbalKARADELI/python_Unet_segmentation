{
 "cells": [
  {
   "cell_type": "code",
   "execution_count": null,
   "id": "433b3b8a",
   "metadata": {},
   "outputs": [],
   "source": []
  },
  {
   "cell_type": "code",
   "execution_count": 5,
   "id": "0a12c122",
   "metadata": {},
   "outputs": [],
   "source": [
    "import torch\n",
    "from torch import optim, nn\n",
    "from torch.utils.data import DataLoader, random_split\n",
    "from tqdm import tqdm\n",
    "import sys\n",
    "import os\n",
    "\n",
    "sys.path.append(\"/Applications/Work Space/Python Work Space/python_Unet_segmentation/lecture-1/src\")\n",
    "\n",
    "from unet import UNet\n",
    "from carvana_dataset import CarvanaDataset\n",
    "\n",
    "\n",
    "LEARNING_RATE = 3e-4\n",
    "BATCH_SIZE = 32\n",
    "EPOCHS = 2\n",
    "DATA_PATH = \"/Applications/Work Space/Python Work Space/python_Unet_segmentation/lecture-1/src/data\" # We change this direction for dataset ...\n",
    "MODEL_SAVE_PATH = \"/Applications/Work Space/Python Work Space/python_Unet_segmentation/lecture-1/src/models/unet.pth\" # Also we change this direction for save models ...\n",
    "\n",
    "\n",
    "dataset = CarvanaDataset(DATA_PATH)"
   ]
  },
  {
   "cell_type": "code",
   "execution_count": 3,
   "id": "3ed0e0b7",
   "metadata": {},
   "outputs": [
    {
     "data": {
      "text/plain": [
       "<carvana_dataset.CarvanaDataset at 0x13b51ee40>"
      ]
     },
     "execution_count": 3,
     "metadata": {},
     "output_type": "execute_result"
    }
   ],
   "source": [
    "dataset"
   ]
  },
  {
   "cell_type": "code",
   "execution_count": null,
   "id": "d035b0c3",
   "metadata": {},
   "outputs": [
    {
     "ename": "FileNotFoundError",
     "evalue": "[Errno 2] No such file or directory: '/Applications/Work Space/Python Work Space/python_Unet_segmentation/lecture-1/src/data/manual_test/'",
     "output_type": "error",
     "traceback": [
      "\u001b[0;31m---------------------------------------------------------------------------\u001b[0m",
      "\u001b[0;31mFileNotFoundError\u001b[0m                         Traceback (most recent call last)",
      "Cell \u001b[0;32mIn[6], line 1\u001b[0m\n\u001b[0;32m----> 1\u001b[0m images \u001b[38;5;241m=\u001b[39m \u001b[38;5;28msorted\u001b[39m([DATA_PATH\u001b[38;5;241m+\u001b[39m\u001b[38;5;124m\"\u001b[39m\u001b[38;5;124m/manual_test/\u001b[39m\u001b[38;5;124m\"\u001b[39m\u001b[38;5;241m+\u001b[39mi \u001b[38;5;28;01mfor\u001b[39;00m i \u001b[38;5;129;01min\u001b[39;00m \u001b[43mos\u001b[49m\u001b[38;5;241;43m.\u001b[39;49m\u001b[43mlistdir\u001b[49m\u001b[43m(\u001b[49m\u001b[43mDATA_PATH\u001b[49m\u001b[38;5;241;43m+\u001b[39;49m\u001b[38;5;124;43m\"\u001b[39;49m\u001b[38;5;124;43m/manual_test/\u001b[39;49m\u001b[38;5;124;43m\"\u001b[39;49m\u001b[43m)\u001b[49m])\n\u001b[1;32m      2\u001b[0m masks \u001b[38;5;241m=\u001b[39m \u001b[38;5;28msorted\u001b[39m([DATA_PATH\u001b[38;5;241m+\u001b[39m\u001b[38;5;124m\"\u001b[39m\u001b[38;5;124m/manual_test_masks/\u001b[39m\u001b[38;5;124m\"\u001b[39m\u001b[38;5;241m+\u001b[39mi \u001b[38;5;28;01mfor\u001b[39;00m i \u001b[38;5;129;01min\u001b[39;00m os\u001b[38;5;241m.\u001b[39mlistdir(DATA_PATH\u001b[38;5;241m+\u001b[39m\u001b[38;5;124m\"\u001b[39m\u001b[38;5;124m/manual_test_masks/\u001b[39m\u001b[38;5;124m\"\u001b[39m)])\n",
      "\u001b[0;31mFileNotFoundError\u001b[0m: [Errno 2] No such file or directory: '/Applications/Work Space/Python Work Space/python_Unet_segmentation/lecture-1/src/data/manual_test/'"
     ]
    }
   ],
   "source": [
    "images = sorted([DATA_PATH+\"/train/\"+i for i in os.listdir(DATA_PATH+\"/train/\")])\n",
    "masks = sorted([DATA_PATH+\"/train_masks/\"+i for i in os.listdir(DATA_PATH+\"/train_masks/\")])"
   ]
  },
  {
   "cell_type": "code",
   "execution_count": null,
   "id": "68b10634",
   "metadata": {},
   "outputs": [],
   "source": [
    "self.images = sorted([root_path+\"/train/\"+i for i in os.listdir(root_path+\"/train/\")])\n",
    "            self.masks = sorted([root_path+\"/train_masks/\"+i for i in os.listdir(root_path+\"/train_masks/\")])"
   ]
  }
 ],
 "metadata": {
  "kernelspec": {
   "display_name": "Python 3",
   "language": "python",
   "name": "python3"
  },
  "language_info": {
   "codemirror_mode": {
    "name": "ipython",
    "version": 3
   },
   "file_extension": ".py",
   "mimetype": "text/x-python",
   "name": "python",
   "nbconvert_exporter": "python",
   "pygments_lexer": "ipython3",
   "version": "3.13.2"
  }
 },
 "nbformat": 4,
 "nbformat_minor": 5
}
